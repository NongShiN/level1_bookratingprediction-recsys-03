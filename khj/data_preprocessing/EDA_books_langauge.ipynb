{
 "cells": [
  {
   "cell_type": "code",
   "execution_count": 2,
   "id": "31533416-c6ce-408d-afe4-a4bd77855268",
   "metadata": {},
   "outputs": [],
   "source": [
    "import pandas as pd\n",
    "import numpy as np"
   ]
  },
  {
   "cell_type": "code",
   "execution_count": 3,
   "id": "3a58cbaa-1e91-426b-9fea-b32406dfa65d",
   "metadata": {
    "tags": []
   },
   "outputs": [
    {
     "name": "stdout",
     "output_type": "stream",
     "text": [
      "books shape:  (149570, 10)\n"
     ]
    }
   ],
   "source": [
    "path='./data/'\n",
    "\n",
    "books = pd.read_csv(path+'books.csv')\n",
    "\n",
    "print('books shape: ', books.shape)"
   ]
  },
  {
   "cell_type": "code",
   "execution_count": 4,
   "id": "eea29294-ef18-409c-9883-6979bf42f3b6",
   "metadata": {
    "tags": []
   },
   "outputs": [
    {
     "data": {
      "text/plain": [
       "isbn                   0.000000\n",
       "book_title             0.000000\n",
       "book_author            0.000007\n",
       "year_of_publication    0.000000\n",
       "publisher              0.000000\n",
       "img_url                0.000000\n",
       "language               0.449468\n",
       "category               0.460326\n",
       "summary                0.449468\n",
       "img_path               0.000000\n",
       "dtype: float64"
      ]
     },
     "execution_count": 4,
     "metadata": {},
     "output_type": "execute_result"
    }
   ],
   "source": [
    "books.isna().sum()/len(books)"
   ]
  },
  {
   "cell_type": "code",
   "execution_count": 4,
   "id": "8e95ea38-7870-4066-a9fb-75bead521f31",
   "metadata": {
    "tags": []
   },
   "outputs": [
    {
     "data": {
      "text/plain": [
       "language\n",
       "en       68705\n",
       "es          84\n",
       "da          15\n",
       "nl           6\n",
       "fr           5\n",
       "no           3\n",
       "pt           3\n",
       "ru           2\n",
       "de           2\n",
       "la           2\n",
       "it           1\n",
       "th           1\n",
       "eo           1\n",
       "gd           1\n",
       "vi           1\n",
       "zh-CN        1\n",
       "zh-TW        1\n",
       "ko           1\n",
       "Name: count, dtype: int64"
      ]
     },
     "execution_count": 4,
     "metadata": {},
     "output_type": "execute_result"
    }
   ],
   "source": [
    "books[books['isbn'].apply(lambda x: x[:1])=='0']['language'].value_counts()"
   ]
  },
  {
   "cell_type": "code",
   "execution_count": 5,
   "id": "2234d61c-d094-4a05-b761-f72c2416f970",
   "metadata": {
    "tags": []
   },
   "outputs": [
    {
     "data": {
      "text/plain": [
       "language\n",
       "en    9664\n",
       "es       8\n",
       "da       3\n",
       "el       1\n",
       "nl       1\n",
       "ga       1\n",
       "no       1\n",
       "ru       1\n",
       "ms       1\n",
       "Name: count, dtype: int64"
      ]
     },
     "execution_count": 5,
     "metadata": {},
     "output_type": "execute_result"
    }
   ],
   "source": [
    "books[books['isbn'].apply(lambda x: x[:1])=='1']['language'].value_counts()"
   ]
  },
  {
   "cell_type": "code",
   "execution_count": 7,
   "id": "d58d9452-76dd-4104-9d60-89b1d5720beb",
   "metadata": {
    "tags": []
   },
   "outputs": [
    {
     "data": {
      "text/plain": [
       "language\n",
       "fr    876\n",
       "en    103\n",
       "nl      3\n",
       "da      2\n",
       "de      1\n",
       "Name: count, dtype: int64"
      ]
     },
     "execution_count": 7,
     "metadata": {},
     "output_type": "execute_result"
    }
   ],
   "source": [
    "books[books['isbn'].apply(lambda x: x[:1])=='2']['language'].value_counts()"
   ]
  },
  {
   "cell_type": "code",
   "execution_count": 9,
   "id": "5fd35057-a423-4cb8-ad66-4fd6ca4f55fc",
   "metadata": {
    "tags": []
   },
   "outputs": [
    {
     "data": {
      "text/plain": [
       "language\n",
       "de    1279\n",
       "en     114\n",
       "da      12\n",
       "nl      12\n",
       "ro       1\n",
       "it       1\n",
       "fr       1\n",
       "es       1\n",
       "la       1\n",
       "Name: count, dtype: int64"
      ]
     },
     "execution_count": 9,
     "metadata": {},
     "output_type": "execute_result"
    }
   ],
   "source": [
    "books[books['isbn'].apply(lambda x: x[:1])=='3']['language'].value_counts()"
   ]
  },
  {
   "cell_type": "code",
   "execution_count": 10,
   "id": "67713165-6683-4563-88dc-12e399b29426",
   "metadata": {},
   "outputs": [
    {
     "data": {
      "text/plain": [
       "language\n",
       "en    39\n",
       "ja     3\n",
       "Name: count, dtype: int64"
      ]
     },
     "execution_count": 10,
     "metadata": {},
     "output_type": "execute_result"
    }
   ],
   "source": [
    "books[books['isbn'].apply(lambda x: x[:1])=='4']['language'].value_counts()"
   ]
  },
  {
   "cell_type": "code",
   "execution_count": 11,
   "id": "a8fcaa76-b723-4ede-a830-95a29f591e0f",
   "metadata": {},
   "outputs": [
    {
     "data": {
      "text/plain": [
       "language\n",
       "en    1\n",
       "Name: count, dtype: int64"
      ]
     },
     "execution_count": 11,
     "metadata": {},
     "output_type": "execute_result"
    }
   ],
   "source": [
    "books[books['isbn'].apply(lambda x: x[:1])=='5']['language'].value_counts()"
   ]
  },
  {
   "cell_type": "code",
   "execution_count": 30,
   "id": "e6ec5b13-4ceb-4498-b494-8a4d971cdbf0",
   "metadata": {
    "tags": []
   },
   "outputs": [
    {
     "data": {
      "text/plain": [
       "Series([], Name: count, dtype: int64)"
      ]
     },
     "execution_count": 30,
     "metadata": {},
     "output_type": "execute_result"
    }
   ],
   "source": [
    "books[books['isbn'].apply(lambda x: x[:1])=='6']['language'].value_counts()"
   ]
  },
  {
   "cell_type": "code",
   "execution_count": 12,
   "id": "5576b67c-73bf-49b2-9f6b-f3f8b0a9aa55",
   "metadata": {},
   "outputs": [
    {
     "data": {
      "text/plain": [
       "language\n",
       "zh-CN    2\n",
       "Name: count, dtype: int64"
      ]
     },
     "execution_count": 12,
     "metadata": {},
     "output_type": "execute_result"
    }
   ],
   "source": [
    "books[books['isbn'].apply(lambda x: x[:1])=='7']['language'].value_counts()"
   ]
  },
  {
   "cell_type": "code",
   "execution_count": 13,
   "id": "bd69dce9-0b4f-4e72-baf3-4a41f820b763",
   "metadata": {
    "tags": []
   },
   "outputs": [
    {
     "data": {
      "text/plain": [
       "language\n",
       "en       78823\n",
       "de        1282\n",
       "es        1017\n",
       "fr         883\n",
       "it         123\n",
       "nl          67\n",
       "pt          47\n",
       "da          37\n",
       "ca          23\n",
       "ms          10\n",
       "no           6\n",
       "zh-CN        3\n",
       "ja           3\n",
       "gl           3\n",
       "ru           3\n",
       "la           3\n",
       "el           1\n",
       "th           1\n",
       "ro           1\n",
       "fa           1\n",
       "eo           1\n",
       "gd           1\n",
       "ga           1\n",
       "vi           1\n",
       "zh-TW        1\n",
       "ko           1\n",
       "Name: count, dtype: int64"
      ]
     },
     "execution_count": 13,
     "metadata": {},
     "output_type": "execute_result"
    }
   ],
   "source": [
    "books['language'].value_counts()"
   ]
  },
  {
   "cell_type": "code",
   "execution_count": 15,
   "id": "37123334-76f4-49fe-b43c-25bff42de97b",
   "metadata": {
    "tags": []
   },
   "outputs": [
    {
     "data": {
      "text/plain": [
       "language\n",
       "es    836\n",
       "en    139\n",
       "it    121\n",
       "pt     32\n",
       "ca     23\n",
       "gl      3\n",
       "da      2\n",
       "no      2\n",
       "fr      1\n",
       "Name: count, dtype: int64"
      ]
     },
     "execution_count": 15,
     "metadata": {},
     "output_type": "execute_result"
    }
   ],
   "source": [
    "books[books['isbn'].apply(lambda x: x[:1])=='8']['language'].value_counts()"
   ]
  },
  {
   "cell_type": "code",
   "execution_count": 16,
   "id": "1f72b704-6295-4dfa-80fc-dde9599da884",
   "metadata": {
    "tags": []
   },
   "outputs": [
    {
     "data": {
      "text/plain": [
       "language\n",
       "es    88\n",
       "en    58\n",
       "nl    45\n",
       "pt    12\n",
       "ms     9\n",
       "da     3\n",
       "fa     1\n",
       "Name: count, dtype: int64"
      ]
     },
     "execution_count": 16,
     "metadata": {},
     "output_type": "execute_result"
    }
   ],
   "source": [
    "books[books['isbn'].apply(lambda x: x[:1])=='9']['language'].value_counts()"
   ]
  },
  {
   "cell_type": "code",
   "execution_count": 24,
   "id": "0e781e47-bef3-4fae-9c78-ca7fed587779",
   "metadata": {
    "tags": []
   },
   "outputs": [
    {
     "name": "stdout",
     "output_type": "stream",
     "text": [
      "80\n",
      "language\n",
      "en    2\n",
      "Name: count, dtype: int64\n",
      "81\n",
      "language\n",
      "en    6\n",
      "es    1\n",
      "Name: count, dtype: int64\n",
      "82\n",
      "language\n",
      "no    2\n",
      "da    1\n",
      "en    1\n",
      "Name: count, dtype: int64\n",
      "83\n",
      "Series([], Name: count, dtype: int64)\n",
      "84\n",
      "language\n",
      "es    835\n",
      "en    122\n",
      "ca     23\n",
      "gl      3\n",
      "da      1\n",
      "Name: count, dtype: int64\n",
      "85\n",
      "language\n",
      "pt    32\n",
      "Name: count, dtype: int64\n",
      "86\n",
      "Series([], Name: count, dtype: int64)\n",
      "87\n",
      "language\n",
      "en    2\n",
      "Name: count, dtype: int64\n",
      "88\n",
      "language\n",
      "it    121\n",
      "en      5\n",
      "fr      1\n",
      "Name: count, dtype: int64\n",
      "89\n",
      "language\n",
      "en    1\n",
      "Name: count, dtype: int64\n",
      "90\n",
      "language\n",
      "nl    45\n",
      "en     6\n",
      "Name: count, dtype: int64\n",
      "91\n",
      "language\n",
      "en    4\n",
      "Name: count, dtype: int64\n",
      "92\n",
      "language\n",
      "en    1\n",
      "Name: count, dtype: int64\n",
      "93\n",
      "Series([], Name: count, dtype: int64)\n",
      "94\n",
      "Series([], Name: count, dtype: int64)\n",
      "95\n",
      "language\n",
      "es    46\n",
      "en     5\n",
      "Name: count, dtype: int64\n",
      "96\n",
      "language\n",
      "es    30\n",
      "en    12\n",
      "ms     8\n",
      "fa     1\n",
      "Name: count, dtype: int64\n",
      "97\n",
      "language\n",
      "pt    12\n",
      "en    11\n",
      "es     3\n",
      "da     3\n",
      "Name: count, dtype: int64\n",
      "98\n",
      "language\n",
      "en    12\n",
      "es     7\n",
      "ms     1\n",
      "Name: count, dtype: int64\n",
      "99\n",
      "language\n",
      "en    7\n",
      "es    2\n",
      "Name: count, dtype: int64\n"
     ]
    }
   ],
   "source": [
    "for i in range(80, 100):\n",
    "    print(i)\n",
    "    print(books[books['isbn'].apply(lambda x: x[:2])==str(i)]['language'].value_counts())"
   ]
  },
  {
   "cell_type": "code",
   "execution_count": 34,
   "id": "12490f60-6154-43e7-8359-02ef43c75d59",
   "metadata": {
    "tags": []
   },
   "outputs": [],
   "source": [
    "lan_dict = {}"
   ]
  },
  {
   "cell_type": "code",
   "execution_count": 35,
   "id": "9e38c2f5-c6c4-427b-b81b-73ef57d1be34",
   "metadata": {
    "tags": []
   },
   "outputs": [],
   "source": [
    "# 한자리 prefix\n",
    "for i in [0, 1, 2, 3, 4, 5, 7]:\n",
    "    lan = books[books['isbn'].apply(lambda x: x[:1])==str(i)]['language'].value_counts().index[0]\n",
    "    lan_dict[str(i)] = lan"
   ]
  },
  {
   "cell_type": "code",
   "execution_count": 36,
   "id": "b5a2380c-692f-474d-90c5-cd4084aa929c",
   "metadata": {
    "tags": []
   },
   "outputs": [
    {
     "data": {
      "text/plain": [
       "{'0': 'en',\n",
       " '1': 'en',\n",
       " '2': 'fr',\n",
       " '3': 'de',\n",
       " '4': 'en',\n",
       " '5': 'en',\n",
       " '7': 'zh-CN'}"
      ]
     },
     "execution_count": 36,
     "metadata": {},
     "output_type": "execute_result"
    }
   ],
   "source": [
    "lan_dict"
   ]
  },
  {
   "cell_type": "code",
   "execution_count": 37,
   "id": "46c7826e-205c-4244-ac33-67027fa59d18",
   "metadata": {
    "tags": []
   },
   "outputs": [
    {
     "name": "stdout",
     "output_type": "stream",
     "text": [
      "83 prefix에 대한 정보가 없음\n",
      "86 prefix에 대한 정보가 없음\n",
      "93 prefix에 대한 정보가 없음\n",
      "94 prefix에 대한 정보가 없음\n"
     ]
    }
   ],
   "source": [
    "# 두자리 prefix\n",
    "for i in range(80, 95):\n",
    "    try:\n",
    "        lan = books[books['isbn'].apply(lambda x: x[:2])==str(i)]['language'].value_counts().index[0]\n",
    "        lan_dict[str(i)] = lan\n",
    "    except:\n",
    "        print(f\"{i} prefix에 대한 정보가 없음\")"
   ]
  },
  {
   "cell_type": "code",
   "execution_count": 38,
   "id": "9ee7c3cd-a9d8-465f-b39b-79c679de6bea",
   "metadata": {},
   "outputs": [
    {
     "data": {
      "text/plain": [
       "{'0': 'en',\n",
       " '1': 'en',\n",
       " '2': 'fr',\n",
       " '3': 'de',\n",
       " '4': 'en',\n",
       " '5': 'en',\n",
       " '7': 'zh-CN',\n",
       " '80': 'en',\n",
       " '81': 'en',\n",
       " '82': 'no',\n",
       " '84': 'es',\n",
       " '85': 'pt',\n",
       " '87': 'en',\n",
       " '88': 'it',\n",
       " '89': 'en',\n",
       " '90': 'nl',\n",
       " '91': 'en',\n",
       " '92': 'en'}"
      ]
     },
     "execution_count": 38,
     "metadata": {},
     "output_type": "execute_result"
    }
   ],
   "source": [
    "lan_dict"
   ]
  },
  {
   "cell_type": "code",
   "execution_count": 44,
   "id": "c30abcde-59f5-4940-a8ce-4c58a050d507",
   "metadata": {
    "tags": []
   },
   "outputs": [
    {
     "name": "stdout",
     "output_type": "stream",
     "text": [
      "951 prefix에 대한 정보가 없음\n",
      "952 prefix에 대한 정보가 없음\n",
      "953 prefix에 대한 정보가 없음\n",
      "954 prefix에 대한 정보가 없음\n",
      "955 prefix에 대한 정보가 없음\n",
      "957 prefix에 대한 정보가 없음\n",
      "959 prefix에 대한 정보가 없음\n",
      "961 prefix에 대한 정보가 없음\n",
      "963 prefix에 대한 정보가 없음\n",
      "966 prefix에 대한 정보가 없음\n",
      "969 prefix에 대한 정보가 없음\n",
      "971 prefix에 대한 정보가 없음\n",
      "973 prefix에 대한 정보가 없음\n",
      "978 prefix에 대한 정보가 없음\n",
      "979 prefix에 대한 정보가 없음\n",
      "984 prefix에 대한 정보가 없음\n",
      "985 prefix에 대한 정보가 없음\n",
      "986 prefix에 대한 정보가 없음\n",
      "988 prefix에 대한 정보가 없음\n",
      "989 prefix에 대한 정보가 없음\n"
     ]
    }
   ],
   "source": [
    "# 세자리 prefix\n",
    "for i in range(950, 990):\n",
    "    try:\n",
    "        lan = books[books['isbn'].apply(lambda x: x[:3])==str(i)]['language'].value_counts().index[0]\n",
    "        lan_dict[str(i)] = lan\n",
    "    except:\n",
    "        print(f\"{i} prefix에 대한 정보가 없음\")"
   ]
  },
  {
   "cell_type": "code",
   "execution_count": 47,
   "id": "724ef530-db1e-4844-b34a-67e8816825bf",
   "metadata": {},
   "outputs": [
    {
     "data": {
      "text/plain": [
       "{'0': 'en',\n",
       " '1': 'en',\n",
       " '2': 'fr',\n",
       " '3': 'de',\n",
       " '4': 'en',\n",
       " '5': 'en',\n",
       " '7': 'zh-CN',\n",
       " '80': 'en',\n",
       " '81': 'en',\n",
       " '82': 'no',\n",
       " '84': 'es',\n",
       " '85': 'pt',\n",
       " '87': 'en',\n",
       " '88': 'it',\n",
       " '89': 'en',\n",
       " '90': 'nl',\n",
       " '91': 'en',\n",
       " '92': 'en',\n",
       " '950': 'es',\n",
       " '956': 'es',\n",
       " '958': 'es',\n",
       " '960': 'en',\n",
       " '962': 'en',\n",
       " '964': 'fa',\n",
       " '965': 'en',\n",
       " '967': 'ms',\n",
       " '968': 'es',\n",
       " '970': 'es',\n",
       " '972': 'pt',\n",
       " '974': 'en',\n",
       " '975': 'en',\n",
       " '976': 'en',\n",
       " '977': 'en',\n",
       " '980': 'en',\n",
       " '981': 'en',\n",
       " '982': 'en',\n",
       " '983': 'en',\n",
       " '987': 'es'}"
      ]
     },
     "execution_count": 47,
     "metadata": {},
     "output_type": "execute_result"
    }
   ],
   "source": [
    "lan_dict"
   ]
  },
  {
   "cell_type": "code",
   "execution_count": 50,
   "id": "cbbf58d3-c68a-4cca-b437-b3734adf5c93",
   "metadata": {
    "tags": []
   },
   "outputs": [],
   "source": [
    "for prefix, language in lan_dict.items():\n",
    "    books.loc[(books['isbn'].str.startswith(prefix)) & (books['language'].isna()), 'language'] = language"
   ]
  },
  {
   "cell_type": "code",
   "execution_count": 52,
   "id": "5723dbd3-b9f1-4e5f-9e5f-f80eb201292e",
   "metadata": {
    "tags": []
   },
   "outputs": [
    {
     "data": {
      "text/plain": [
       "isbn                       0\n",
       "book_title                 0\n",
       "book_author                1\n",
       "year_of_publication        0\n",
       "publisher                  0\n",
       "img_url                    0\n",
       "language                 153\n",
       "category               68851\n",
       "summary                67227\n",
       "img_path                   0\n",
       "dtype: int64"
      ]
     },
     "execution_count": 52,
     "metadata": {},
     "output_type": "execute_result"
    }
   ],
   "source": [
    "books.isna().sum()"
   ]
  },
  {
   "cell_type": "code",
   "execution_count": 63,
   "id": "4ea98e40-2b1b-449e-ad20-9ddbf6ab7274",
   "metadata": {
    "tags": []
   },
   "outputs": [
    {
     "data": {
      "text/plain": [
       "isbn\n",
       "B0    47\n",
       "99    42\n",
       "83    24\n",
       "95    19\n",
       "97    12\n",
       "96     5\n",
       "86     4\n",
       "Name: count, dtype: int64"
      ]
     },
     "execution_count": 63,
     "metadata": {},
     "output_type": "execute_result"
    }
   ],
   "source": [
    "books[books.language.isna()]['isbn'].apply(lambda x: x[:2]).value_counts()"
   ]
  },
  {
   "cell_type": "code",
   "execution_count": 64,
   "id": "2fb7f093-bda4-4b69-b60f-c07331dfe808",
   "metadata": {
    "tags": []
   },
   "outputs": [
    {
     "data": {
      "text/plain": [
       "isbn\n",
       "B00    47\n",
       "999    29\n",
       "951    12\n",
       "997    10\n",
       "832     9\n",
       "971     8\n",
       "830     5\n",
       "837     4\n",
       "963     4\n",
       "954     3\n",
       "838     3\n",
       "979     2\n",
       "973     2\n",
       "996     2\n",
       "959     2\n",
       "867     2\n",
       "831     2\n",
       "839     1\n",
       "998     1\n",
       "863     1\n",
       "957     1\n",
       "966     1\n",
       "952     1\n",
       "868     1\n",
       "Name: count, dtype: int64"
      ]
     },
     "execution_count": 64,
     "metadata": {},
     "output_type": "execute_result"
    }
   ],
   "source": [
    "books[books.language.isna()]['isbn'].apply(lambda x: x[:3]).value_counts()"
   ]
  },
  {
   "cell_type": "code",
   "execution_count": 66,
   "id": "a8627253-46d8-43d7-9bcd-fa756378e2c0",
   "metadata": {
    "tags": []
   },
   "outputs": [
    {
     "data": {
      "text/plain": [
       "isbn\n",
       "B000    47\n",
       "9997    16\n",
       "8321     6\n",
       "9971     5\n",
       "8370     4\n",
       "9990     4\n",
       "9510     3\n",
       "9512     3\n",
       "8308     3\n",
       "9719     3\n",
       "9631     3\n",
       "9513     2\n",
       "9994     2\n",
       "9976     2\n",
       "9739     2\n",
       "9715     2\n",
       "9992     2\n",
       "8385     2\n",
       "9511     2\n",
       "8322     2\n",
       "8311     2\n",
       "9993     2\n",
       "9799     1\n",
       "9968     1\n",
       "9590     1\n",
       "9977     1\n",
       "9529     1\n",
       "9518     1\n",
       "9963     1\n",
       "8306     1\n",
       "9712     1\n",
       "9718     1\n",
       "9710     1\n",
       "8681     1\n",
       "9666     1\n",
       "9796     1\n",
       "9633     1\n",
       "8390     1\n",
       "9549     1\n",
       "9986     1\n",
       "9571     1\n",
       "8631     1\n",
       "9974     1\n",
       "8303     1\n",
       "8320     1\n",
       "9999     1\n",
       "8386     1\n",
       "9591     1\n",
       "9515     1\n",
       "9979     1\n",
       "9991     1\n",
       "8673     1\n",
       "8670     1\n",
       "9546     1\n",
       "9548     1\n",
       "9998     1\n",
       "Name: count, dtype: int64"
      ]
     },
     "execution_count": 66,
     "metadata": {},
     "output_type": "execute_result"
    }
   ],
   "source": [
    "books[books.language.isna()]['isbn'].apply(lambda x: x[:4]).value_counts()"
   ]
  },
  {
   "cell_type": "code",
   "execution_count": 67,
   "id": "cd89aa9b-ac25-4c68-b608-2e304a4e3ee2",
   "metadata": {
    "tags": []
   },
   "outputs": [
    {
     "data": {
      "text/plain": [
       "isbn\n",
       "B0000    37\n",
       "99974     9\n",
       "B0001     9\n",
       "99975     7\n",
       "83080     3\n",
       "         ..\n",
       "97155     1\n",
       "95101     1\n",
       "99920     1\n",
       "B0002     1\n",
       "99989     1\n",
       "Name: count, Length: 77, dtype: int64"
      ]
     },
     "execution_count": 67,
     "metadata": {},
     "output_type": "execute_result"
    }
   ],
   "source": [
    "books[books.language.isna()]['isbn'].apply(lambda x: x[:5]).value_counts()"
   ]
  },
  {
   "cell_type": "code",
   "execution_count": 69,
   "id": "c3edb64a-a94d-4486-9c5b-cb2237e59001",
   "metadata": {
    "tags": []
   },
   "outputs": [],
   "source": [
    "books.loc[books.language.isna(), 'language'] = 'en'"
   ]
  },
  {
   "cell_type": "code",
   "execution_count": 72,
   "id": "bbbecff5-f4dc-4cf9-a991-dd6f25a375bc",
   "metadata": {
    "tags": []
   },
   "outputs": [],
   "source": [
    "books.to_csv('impute_books.csv', index=False)"
   ]
  },
  {
   "cell_type": "code",
   "execution_count": null,
   "id": "93df180a-f7fd-40a4-b079-404ff0f84853",
   "metadata": {},
   "outputs": [],
   "source": []
  }
 ],
 "metadata": {
  "kernelspec": {
   "display_name": "Python 3 (ipykernel)",
   "language": "python",
   "name": "python3"
  },
  "language_info": {
   "codemirror_mode": {
    "name": "ipython",
    "version": 3
   },
   "file_extension": ".py",
   "mimetype": "text/x-python",
   "name": "python",
   "nbconvert_exporter": "python",
   "pygments_lexer": "ipython3",
   "version": "3.8.5"
  }
 },
 "nbformat": 4,
 "nbformat_minor": 5
}
